{
  "cells": [
    {
      "cell_type": "code",
      "execution_count": null,
      "metadata": {
        "colab": {
          "base_uri": "https://localhost:8080/",
          "height": 72
        },
        "id": "n0iQlAH0gRuf",
        "outputId": "d16eb6f9-a637-401c-8f07-d501accd9b18"
      },
      "outputs": [],
      "source": [
        "import matplotlib.pyplot as plt\n",
        "import numpy as np\n",
        "\n",
        "from bandit import Bandit, Agent\n",
        "\n",
        "runs = 100\n",
        "steps = 100000\n",
        "epsilon = 0.1\n",
        "all_rates = np.zeros( (runs,steps) ) #(200,1000)の行列\n",
        "\n",
        "for run in range(runs):\n",
        "  bandit = Bandit(test=True)\n",
        "  agent = Agent(epsilon)\n",
        "  total_reward = 0\n",
        "  rates = []\n",
        "\n",
        "  for step in range(steps):\n",
        "    action = agent.get_action() #１:行動を選ぶ\n",
        "    reward = bandit.play(action) #2:実際にプレイして報酬を得る\n",
        "    agent.update(action,reward) #3:行動と報酬から学ぶ\n",
        "    total_reward += reward\n",
        "    rates.append(total_reward / (step + 1))\n",
        "  all_rates[run] = rates #1報酬結果を記録\n",
        "avg_rates = np.average(all_rates, axis=0) #2各ステップにおける報酬平均\n",
        "\n",
        "#グラフ描画(1)\n",
        "print(\"average_rates\", avg_rates[steps-1])\n",
        "plt.ylabel('Rates')\n",
        "plt.xlabel('Steps')\n",
        "plt.plot(avg_rates)\n",
        "plt.show()"
      ]
    }
  ],
  "metadata": {
    "colab": {
      "collapsed_sections": [],
      "name": "Bandit_Programs.ipynb",
      "provenance": []
    },
    "interpreter": {
      "hash": "73f9dbd722395cdf9ff42d9449b845ab11e9b90fd52e4cc47e0c73ed7570b290"
    },
    "kernelspec": {
      "display_name": "Python 3.10.4 ('venv')",
      "language": "python",
      "name": "python3"
    },
    "language_info": {
      "codemirror_mode": {
        "name": "ipython",
        "version": 3
      },
      "file_extension": ".py",
      "mimetype": "text/x-python",
      "name": "python",
      "nbconvert_exporter": "python",
      "pygments_lexer": "ipython3",
      "version": "3.10.4"
    }
  },
  "nbformat": 4,
  "nbformat_minor": 0
}
